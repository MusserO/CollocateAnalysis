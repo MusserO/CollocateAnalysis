{
  "nbformat": 4,
  "nbformat_minor": 0,
  "metadata": {
    "colab": {
      "name": "Collocate_analysis.ipynb",
      "provenance": [],
      "collapsed_sections": [],
      "include_colab_link": true
    },
    "kernelspec": {
      "display_name": "Python 3",
      "name": "python3"
    }
  },
  "cells": [
    {
      "cell_type": "markdown",
      "metadata": {
        "id": "view-in-github",
        "colab_type": "text"
      },
      "source": [
        "<a href=\"https://colab.research.google.com/github/MusserO/CollocateAnalysis/blob/main/Collocate_analysis.ipynb\" target=\"_parent\"><img src=\"https://colab.research.google.com/assets/colab-badge.svg\" alt=\"Open In Colab\"/></a>"
      ]
    },
    {
      "cell_type": "code",
      "metadata": {
        "id": "EcwUx3PH0Uh9",
        "colab": {
          "base_uri": "https://localhost:8080/"
        },
        "outputId": "55dd1847-5c58-4aa3-f859-49aebb27c3ef"
      },
      "source": [
        "!pip install korp"
      ],
      "execution_count": null,
      "outputs": [
        {
          "output_type": "stream",
          "text": [
            "Requirement already satisfied: korp in /usr/local/lib/python3.6/dist-packages (1.0.3)\n",
            "Requirement already satisfied: requests in /usr/local/lib/python3.6/dist-packages (from korp) (2.23.0)\n",
            "Requirement already satisfied: urllib3!=1.25.0,!=1.25.1,<1.26,>=1.21.1 in /usr/local/lib/python3.6/dist-packages (from requests->korp) (1.24.3)\n",
            "Requirement already satisfied: chardet<4,>=3.0.2 in /usr/local/lib/python3.6/dist-packages (from requests->korp) (3.0.4)\n",
            "Requirement already satisfied: idna<3,>=2.5 in /usr/local/lib/python3.6/dist-packages (from requests->korp) (2.10)\n",
            "Requirement already satisfied: certifi>=2017.4.17 in /usr/local/lib/python3.6/dist-packages (from requests->korp) (2020.12.5)\n"
          ],
          "name": "stdout"
        }
      ]
    },
    {
      "cell_type": "code",
      "metadata": {
        "id": "DQ9BgmgeO9vk"
      },
      "source": [
        "corpora_string = \"ethesis_ma_ai,ethesis_ma_bio,ethesis_ma_el,ethesis_ma_far,ethesis_ma_hum,ethesis_ma_beh,ethesis_ma_med,ethesis_ma_mm,ethesis_ma_sci,ethesis_ma_ot,ethesis_ma_teo,ethesis_ma_valt,ethesis_phd_bio,ethesis_phd_el,ethesis_phd_far,ethesis_phd_hum,ethesis_phd_beh,ethesis_phd_med,ethesis_phd_mm,ethesis_phd_ot,ethesis_phd_teo,ethesis_phd_valt,ethesis_maabs,ethesis_dissabs,klk_fi_2000,klk_fi_1999,klk_fi_1998,klk_fi_1997,klk_fi_1996,klk_fi_1995,klk_fi_1994,klk_fi_1993,klk_fi_1992,klk_fi_1991,klk_fi_1990,klk_fi_1989,klk_fi_1988,klk_fi_1987,klk_fi_1986,klk_fi_1985,klk_fi_1984,klk_fi_1983,klk_fi_1982,klk_fi_1981,klk_fi_1980,klk_fi_1979,klk_fi_1978,klk_fi_1977,klk_fi_1976,klk_fi_1975,klk_fi_1974,klk_fi_1973,klk_fi_1972,klk_fi_1971,klk_fi_1970,klk_fi_1969,klk_fi_1968,klk_fi_1967,klk_fi_1966,klk_fi_1965,klk_fi_1964,klk_fi_1963,klk_fi_1962,klk_fi_1961,klk_fi_1960,klk_fi_1959,klk_fi_1958,klk_fi_1957,klk_fi_1956,klk_fi_1955,klk_fi_1954,klk_fi_1953,klk_fi_1952,klk_fi_1951,klk_fi_1950,klk_fi_1949,klk_fi_1948,klk_fi_1947,klk_fi_1946,klk_fi_1945,klk_fi_1944,klk_fi_1943,klk_fi_1942,klk_fi_1941,klk_fi_1940,klk_fi_1939,klk_fi_1938,klk_fi_1937,klk_fi_1936,klk_fi_1935,klk_fi_1934,klk_fi_1933,klk_fi_1932,klk_fi_1931,klk_fi_1930,klk_fi_1929,klk_fi_1928,klk_fi_1927,klk_fi_1926,klk_fi_1925,klk_fi_1924,klk_fi_1923,klk_fi_1922,klk_fi_1921,klk_fi_1920,semfinlex_asd_fi_2018,semfinlex_kko_fi_2018,semfinlex_kho_fi_2018,kotus_lakidir,legal_fi,mulcold_fi,s24_2001,s24_2002,s24_2003,s24_2004,s24_2005,s24_2006,s24_2007,s24_2008,s24_2009,s24_2010,s24_2011,s24_2012,s24_2013,s24_2014,s24_2015,s24_2016,s24_2017,tiedelehdet_30paivaa,tiedelehdet_aakusti,tiedelehdet_agricola,tiedelehdet_aidinkieli,tiedelehdet_aikuiskasvatus,tiedelehdet_aluejaymparisto,tiedelehdet_ammattikasvatuksen_aikakauskirja,tiedelehdet_apollon,tiedelehdet_areiopagi,tiedelehdet_ats,tiedelehdet_auraica,tiedelehdet_automaatiovayla,tiedelehdet_avain,tiedelehdet_baptria,tiedelehdet_bryobrotherella,tiedelehdet_diakonia,tiedelehdet_elo,tiedelehdet_ennenjanyt,tiedelehdet_geofoorumi,tiedelehdet_geologi,tiedelehdet_glossae,tiedelehdet_harukaze,tiedelehdet_havina,tiedelehdet_hiidenkivi,tiedelehdet_historiallinen,tiedelehdet_historianystava,tiedelehdet_idantutkimus,tiedelehdet_ilmansuojelu,tiedelehdet_informaatio,tiedelehdet_janus,tiedelehdet_hykirjasto,tiedelehdet_kasvu,tiedelehdet_kieliskooppi,tiedelehdet_kliinlab,tiedelehdet_kognitiivinen,tiedelehdet_kompositio,tiedelehdet_kosmopolis,tiedelehdet_kulttuurintutkimus,tiedelehdet_kulutustutkimus,tiedelehdet_kunnallistiede,tiedelehdet_kuntoutus,tiedelehdet_liikenteensuunta_v2,tiedelehdet_liiketalous,tiedelehdet_liikuntajatiede,tiedelehdet_lounaishame,tiedelehdet_maaseudunuusiaika,tiedelehdet_matkailututkimus,tiedelehdet_mediajaviestinta,tiedelehdet_metsatiede,tiedelehdet_muinaistutkija,tiedelehdet_musiikinsuunta,tiedelehdet_musiikkikasv,tiedelehdet_niinnain_v2,tiedelehdet_nimi,tiedelehdet_nayttamo_tutkimus,tiedelehdet_poliittinentalous,tiedelehdet_prologi,tiedelehdet_psykologia,tiedelehdet_rakmek,tiedelehdet_ravitsemus,tiedelehdet_ruralia,tiedelehdet_sananjalka,tiedelehdet_siirtolaisuus,tiedelehdet_skas,tiedelehdet_skeptikko,tiedelehdet_skholion,tiedelehdet_solubiologi,tiedelehdet_sosiaalilaaketiede,tiedelehdet_sosiologia,tiedelehdet_suo,tiedelehdet_susa,tiedelehdet_kirkkohistoria,tiedelehdet_sydanaani,tiedelehdet_synnyt,tiedelehdet_tahiti,tiedelehdet_taimiuutiset,tiedelehdet_teologinen,tiedelehdet_terminfo,tiedelehdet_terra,tiedelehdet_thanatos,tiedelehdet_tiedejaase,tiedelehdet_tieteessatapahtuu,tiedelehdet_tktlehti,tiedelehdet_tietolinja,tiedelehdet_toksikologi,tiedelehdet_transmitteri,tiedelehdet_trio,tiedelehdet_tutkimustiedote,tiedelehdet_tutkivasos,tiedelehdet_tyoelama,tiedelehdet_ura,tiedelehdet_uskonnontutkija,tiedelehdet_vartija,tiedelehdet_versus,tiedelehdet_virittaja,tiedelehdet_walbum,tiedelehdet_yhdyskuntasuunnittelu,tiedelehdet_yhteiskuntapolitiikka,tiedelehdet_ymparistohistoria,lehdet_aalto_university_magazine,lehdet_aarre,lehdet_aino,lehdet_ajolinja,lehdet_akavalainen,lehdet_allergia,lehdet_ammattisotilas,lehdet_amnesty,lehdet_ananda,lehdet_animalia,lehdet_anti,lehdet_antimilitaristi_sivari,lehdet_apaja,lehdet_aplodi,lehdet_arkkitehtiuutiset,lehdet_aromi,lehdet_aselehti,lehdet_askel,lehdet_asukas,lehdet_asukki,lehdet_asuminen_yhteiskunta,lehdet_asuntoinfo,lehdet_aurora,lehdet_avainlehti,lehdet_avec,lehdet_avec_perhelehti,lehdet_avh,lehdet_avvisio,lehdet_bof_online,lehdet_canews,lehdet_cplehti,lehdet_curly,lehdet_debatti,lehdet_diabetes_ja_laakari,lehdet_diakonia,lehdet_edimensio,lehdet_effortti,lehdet_ekonomi,lehdet_elinehto,lehdet_elamantahdet_terve,lehdet_elamassa_kelansanomat,lehdet_elore,lehdet_emma,lehdet_entisesta_enemman,lehdet_ernie,lehdet_espanjan_sanomat,lehdet_espoo,lehdet_esri,lehdet_ethnos,lehdet_eurooppalainen,lehdet_euro_talous,lehdet_evento,lehdet_focus,lehdet_folium_classicum,lehdet_hkaksi,lehdet_haagalainen,lehdet_haavi,lehdet_hallaus,lehdet_helen,lehdet_helmeri,lehdet_helmi,lehdet_helsinginhenki,lehdet_helsinki_info,lehdet_hengitys,lehdet_heppu,lehdet_hervannan_sanomat,lehdet_hima,lehdet_hopealeijona,lehdet_huili,lehdet_humanistilehti,lehdet_husari,lehdet_hyva_asukas,lehdet_impakti,lehdet_infors,lehdet_infront,lehdet_jane_paulo,lehdet_jargonia,lehdet_joensuun_uutiset,lehdet_julkaisija,lehdet_kalastuslehti,lehdet_kalpa,lehdet_kansanopisto,lehdet_karhunkierros,lehdet_karhunpalvelus,lehdet_kauppapolitiikka,lehdet_kaupunkilainen,lehdet_kehittaja,lehdet_kemia_kemi,lehdet_kemilainen,lehdet_kerberos,lehdet_keski_espoon_sanomat,lehdet_keva,lehdet_kide,lehdet_kide_taidelehti,lehdet_kielipolku_dysfasia,lehdet_kirjo,lehdet_kita,lehdet_koiviston_viesti,lehdet_kontakt,lehdet_koor,lehdet_koti,lehdet_kotipuutarha,lehdet_kotosalla,lehdet_kuljetusyrittaja,lehdet_kulttuurivihkot,lehdet_kumina,lehdet_kumposti,lehdet_kunnallissuomi,lehdet_kuuloset,lehdet_kuuloviesti,lehdet_kynnys,lehdet_kyvyt_kayttoon_vates,lehdet_kaytannon_maamies,lehdet_lapsenmaailma,lehdet_legenda,lehdet_leija,lehdet_luokanopettaja,lehdet_luuppisanomat,lehdet_lahde_liikkeelle,lehdet_maailma_kiitotie,lehdet_materia,lehdet_matkailusilma,lehdet_me,lehdet_mercurius,lehdet_meripelastus,lehdet_merkonomi,lehdet_minna,lehdet_mirator,lehdet_modin,lehdet_motiva_mplus_xpress,lehdet_musetti,lehdet_muusikko,lehdet_nonsordino,lehdet_nakyva_nainen,lehdet_ollaviiskytviisplus,lehdet_omakotisanomat,lehdet_ostrobotnia,lehdet_ota_opiksi,lehdet_oulunkylainen,lehdet_pakolainen,lehdet_palveluesimies,lehdet_paraisten_kuulutukset,lehdet_pardianyt,lehdet_pariperhe,lehdet_partio_jalki,lehdet_patria,lehdet_pelastusalan_ammattilainen,lehdet_pelastustieto,lehdet_perussuomalainen,lehdet_pihlajamaki_info,lehdet_pihlajisto_viikinmaki,lehdet_pippuri,lehdet_pirkkalainen,lehdet_pirta,lehdet_pispalalainen,lehdet_plari,lehdet_pointti,lehdet_poleemi,lehdet_polemiikki,lehdet_policy,lehdet_poromies,lehdet_print_media,lehdet_pro_etelapohjanmaa,lehdet_prointerior,lehdet_promaint_kunnossapito,lehdet_proresto,lehdet_puulehti,lehdet_puutarha_sanomat,lehdet_rautalampilehti,lehdet_rautatievirkamies,lehdet_ruotuvaki,lehdet_ronsy,lehdet_saarijarvelainen,lehdet_saariselka,lehdet_saima,lehdet_secretarius,lehdet_selkosanomat,lehdet_signum,lehdet_skrolli,lehdet_sofia,lehdet_solidaarisuus,lehdet_sosiaalivakuutus,lehdet_stiiknafuulia,lehdet_sukuviesti,lehdet_suomen_historiallinen,lehdet_suomenmaa,lehdet_seniorilehti,lehdet_suomi_puola,lehdet_super,lehdet_susikko,lehdet_sydan_hameen_lehti,lehdet_syopa,lehdet_syopasaation_focus,lehdet_sosso,lehdet_taku,lehdet_talentia,lehdet_taloustaito,lehdet_tamk_nyt,lehdet_tampere,lehdet_kauppakamarilehti,lehdet_tampereen_liikuntasanomat,lehdet_tampu,lehdet_tanhuviesti,lehdet_tanssiurheilija,lehdet_tapaturmavakuutus,lehdet_tapiolan_asiakaslehti,lehdet_tatsi,lehdet_tek_verkkolehti,lehdet_teollisuussuomi,lehdet_terve_elama,lehdet_terve_pirkanmaa,lehdet_tervetuloa_jyvaskylaan,lehdet_terveydeksi,lehdet_tiedetoimittaja,lehdet_tiedosta,lehdet_tietoa_maasta,lehdet_tietoarkisto,lehdet_tiimi,lehdet_toimi,lehdet_toisinsanoen,lehdet_toolilainen,lehdet_tukijalka,lehdet_tukilinja,lehdet_tukiviesti,lehdet_tuntosarvi,lehdet_turkuposti,lehdet_tutkain,lehdet_tuulivoima_tuulienergia_tuulensilma,lehdet_tyoelake,lehdet_taydellinenympyra,lehdet_ubik,lehdet_uiotus,lehdet_uljas,lehdet_uniikki,lehdet_unioni,lehdet_universitas,lehdet_universitaschydenius,lehdet_utain,lehdet_uusiouutiset,lehdet_uusipaiva,lehdet_uusi_safiiri,lehdet_uutis_jousi,lehdet_vaasan_ylioppilaslehti,lehdet_valkoinen_kaapio,lehdet_valkonauha,lehdet_vammaisurheilu,lehdet_vanhustyo,lehdet_vankilavirkailija,lehdet_vantaan_akseli,lehdet_vantaan_asukaslehti,lehdet_vapaa_ajattelija,lehdet_vasama,lehdet_koskinen,lehdet_veturimies,lehdet_via,lehdet_via_helsinki,lehdet_vilkku,lehdet_virallinenlehti,lehdet_virilactis,lehdet_virta,lehdet_valitysuutiset,lehdet_walpo,lehdet_wieteri,lehdet_yhteenveto,lehdet_yhteishyva,lehdet_yhteishyva_ruoka,lehdet_yhys_tiedotuslehti,lehdet_yliopistolainen,lehdet_yrittajasanomat,lehdet_yritysetiikka,ylenews_fi_2011_s,ylenews_fi_2012_s,ylenews_fi_2013_s,ylenews_fi_2014_s,ylenews_fi_2015_s,ylenews_fi_2016_s,ylenews_fi_2017_s,ylenews_fi_2018_s,arkisyn,eduskunta\"\r\n",
        "corpora = corpora_string.split(\",\")\r\n",
        "\r\n",
        "#query = '\"(?i)transla(ki|it|in|kien|kia|keja|issa|eissa|ista|eista|kiin|keihin|illa|eilla|ilta|eilta|ille|eille|kina|keina|iksi|eiksi|ein|itta|eitta|keineen)[a-zåäö\\-]*\"'\r\n",
        "query = \"[word='(?i)tuon'] [word='(?i)tuosta[a-zåäö\\-]*']\"\r\n",
        "\r\n",
        "collocate_window_span_left = 4\r\n",
        "collocate_window_span_right = 4\r\n",
        "\r\n",
        "min_collocate_appearance_count = 20"
      ],
      "execution_count": null,
      "outputs": []
    },
    {
      "cell_type": "code",
      "metadata": {
        "id": "LjsBs0EwzpEj",
        "colab": {
          "base_uri": "https://localhost:8080/"
        },
        "outputId": "c31fdd0b-f59c-4187-9207-94a47dfbd535"
      },
      "source": [
        "from korp.korp import Korp\n",
        "from collections import Counter\n",
        "from datetime import datetime\n",
        "\n",
        "korp = Korp(service_name=\"kielipankki\")\n",
        "\n",
        "contexts = set()\n",
        "duplicates = Counter()\n",
        "\n",
        "print(\"Haetaan konkordansseja...\")\n",
        "n_concordances, concordances = korp.all_concordances(query, corpora, \n",
        "            additional_parameters={\"groupby\":\"lemma\", \n",
        "                                   \"show\":[\"word\", \"lemma\", \"pos\"], \n",
        "                                   \"sort\":\"left\",\n",
        "                                   \"defaultcontext\":\"sentence\"})\n",
        "\n",
        "for concordance in concordances:\n",
        "    match_indices = range(concordance['match']['start'], concordance['match']['end'])\n",
        "    match = \" \".join([concordance['tokens'][match_index]['word'] for match_index in match_indices])\n",
        "    left_collocate_lemmas = []\n",
        "    right_collocate_lemmas = []\n",
        "    left_collocate_words = []\n",
        "    right_collocate_words = []\n",
        "    for token_index, token in enumerate(concordance['tokens']):\n",
        "        # Poistetaan välimerkit, erikoismerkit ja tuntemattoman sanaluokan saneet\n",
        "        if token['pos'] in [\"Punct\",\"Symb\",\"Foreign\", None]:\n",
        "            continue\n",
        "        if token_index < match_indices[0]:\n",
        "            left_collocate_lemmas.append(token['lemma'])\n",
        "            left_collocate_words.append(token['word'])\n",
        "        elif token_index >= match_indices[-1]+1:\n",
        "            right_collocate_lemmas.append(token['lemma'])\n",
        "            right_collocate_words.append(token['word'])\n",
        "    context = (tuple(left_collocate_lemmas), tuple(right_collocate_lemmas), match,\n",
        "                    tuple(left_collocate_words), tuple(right_collocate_words))\n",
        "    if context in contexts:\n",
        "        duplicates[context] += 1\n",
        "    else:\n",
        "        contexts.add(context)\n",
        "\n",
        "print(\"Konkordansseja yhteensä:\", n_concordances)\n",
        "print(\"Duplikaattina poistettavia:\", sum(duplicates.values()))\n",
        "\n",
        "left_collocate_counts = Counter()\n",
        "right_collocate_counts = Counter()\n",
        "total_collocate_counts = Counter()\n",
        "for left, right, _, _, _ in contexts:\n",
        "    left_collocates = left[-collocate_window_span_left:]\n",
        "    right_collocates = right[:collocate_window_span_right]\n",
        "    for word in left_collocates:\n",
        "        left_collocate_counts[word] += 1\n",
        "        total_collocate_counts[word] += 1\n",
        "    for word in right_collocates:\n",
        "        right_collocate_counts[word] += 1\n",
        "        total_collocate_counts[word] += 1\n",
        "\n",
        "with open('left_collocate_counts_'+query+'.txt',\"w+\", encoding=\"utf-8\") as file:\n",
        "    for lemma, count in sorted(left_collocate_counts.items(), key=lambda x: (x[1], x[0]), reverse=True):\n",
        "        file.write(\"{}\\t{}\\n\".format(lemma, count))\n",
        "with open('right_collocate_counts_'+query+'.txt',\"w+\", encoding=\"utf-8\") as file:\n",
        "    for lemma, count in sorted(right_collocate_counts.items(), key=lambda x: (x[1], x[0]), reverse=True):\n",
        "        file.write(\"{}\\t{}\\n\".format(lemma, count))\n",
        "with open('total_collocate_counts_'+query+'.txt',\"w+\", encoding=\"utf-8\") as file:\n",
        "    for lemma, count in sorted(total_collocate_counts.items(), key=lambda x: (x[1], x[0]), reverse=True):\n",
        "        file.write(\"{}\\t{}\\n\".format(lemma, count))"
      ],
      "execution_count": null,
      "outputs": [
        {
          "output_type": "stream",
          "text": [
            "Haetaan konkordansseja...\n",
            "Konkordansseja yhteensä: 20329\n",
            "Duplikaattina poistettavia: 657\n"
          ],
          "name": "stdout"
        }
      ]
    },
    {
      "cell_type": "code",
      "metadata": {
        "id": "pbRDvynUE-cd",
        "colab": {
          "base_uri": "https://localhost:8080/"
        },
        "outputId": "8bbcedeb-ce7d-482a-fdd8-7e3d05261190"
      },
      "source": [
        "# Esimerkkikonkordansseja (välimerkit, erikoismerkit ja tuntemattoman sanaluokan saneet poistettu):\n",
        "for _, _, match, left, right in list(contexts)[:10]:\n",
        "    print(\" \".join(left),match,\" \".join(right))"
      ],
      "execution_count": null,
      "outputs": [
        {
          "output_type": "stream",
          "text": [
            "Kaunis on meri kauniita nuo vaahtoavat hyökyaallot näin päivänvalossakin mutta kauneinta on rannalla kuutamossa tai illan tähtivalossakin kun tähdenlennot vilkkuvat tuon tuostakin ja hyökyaaltojen\n",
            "Työnantajani luuli että laiskottelen vaikka lääkärin papereita toin tuon tuosta \n",
            "Tornion kaapelit on kuuleman mukaan Soneran liikkeestä kuultua siinä kunnossa jo että ei ihme jos TV-lähetykset pätkii tuon tuostakin \n",
            "Selailin romano palstaa ja siellä tulee tuon tuostakin vastaan nimi Tino eli on rommaaninimi eikös jonkun kloori-sukulaisen kakara o myös Tino\n",
            "Koneeni kaatuilee tuon tuosta \n",
            "Jännitys kohosi ja tuon tuostakin kävi harii riuhtasemassa säikäyttäen aikalailla\n",
            "Eli ilmastointikone kun pukkaa tuloilmaa aina vain saman määrän ja jos se on säädetty liian pienelle ja siihen kun vielä käytetään tuon tuostakin liesituuletinta ja poltetaan takkaa puussa niin epäsuhta voi olla melkoinen\n",
            "Tästä lehdestä saa tuon tuostakin lukea että meille kuulemattomillekin järjestetään esitelmä- ja muita valistustilaisuuksia yksinäisyystunteemme virkistykseksi\n",
            "Kuluu aikaa ja tuon tuostakin kuningas Senartin metsässä kohtaa nuoren roinan jota sillä välin on alettu kutsua metsänlieidoksi\n",
            "Mutta tuon tuosta kuitenkin Mflßrltaa ylitse kuin suvinen virsi se honkainen pirtti ja koti sieltä miksi sieltä lähteä misst sinä hiihtelet\n"
          ],
          "name": "stdout"
        }
      ]
    },
    {
      "cell_type": "code",
      "metadata": {
        "id": "ugvorZpdB8gP"
      },
      "source": [
        "# Tallennetaan konkordanssit tiedostoon\n",
        "with open(\"concordance_corpus_\"+query+\".txt\", \"w+\", encoding=\"utf-8\") as file:\n",
        "    for left_lemmas, right_lemmas, match, left_words, right_words in list(contexts):\n",
        "        concordance = \" \".join(left_words)+\" -- \"+match+\" -- \"+\" \".join(right_words)+\"\\n\"+\\\n",
        "            \" \".join(left_lemmas)+\" -- \"+match+\" -- \"+\" \".join(right_lemmas)+\"\\n\"\n",
        "        file.write(concordance+\"\\n\")\n",
        "\n",
        "# Tallennetaan duplikaatit tiedostoon\n",
        "with open(\"duplicates_\"+query+\".txt\", \"w+\", encoding=\"utf-8\") as file:\n",
        "    for context, count in duplicates.items():\n",
        "        left_lemmas, right_lemmas, match, left_words, right_words = context\n",
        "        concordance = \" \".join(left_words)+\" -- \"+match+\" -- \"+\" \".join(right_words)+\"\\n\"+\\\n",
        "            \" \".join(left_lemmas)+\" -- \"+match+\" -- \"+\" \".join(right_lemmas)+\"\\n\"+str(count)+\"\\n\"\n",
        "        file.write(concordance+\"\\n\")"
      ],
      "execution_count": null,
      "outputs": []
    },
    {
      "cell_type": "code",
      "metadata": {
        "id": "Wxdqp9SGVy8v",
        "colab": {
          "base_uri": "https://localhost:8080/"
        },
        "outputId": "50c4683c-2ad8-4792-bdef-a8800d6a4173"
      },
      "source": [
        "print(\"Lasketaan saneita...\")\r\n",
        "\r\n",
        "# Lasketaan yhteen korpusten saneiden lukumäärät\r\n",
        "n_all_tokens = 0\r\n",
        "corpus_info = korp.corpus_information(corpora)\r\n",
        "for corpus in corpus_info:\r\n",
        "    n_all_tokens += int(corpus_info[corpus]['info']['Size'])\r\n",
        "\r\n",
        "# Lasketaan \r\n",
        "query_for_included_tokens = '[(pos=\"[A-Za-z].*\")&(pos!=\"Punct|Symb|Foreign\")]'\r\n",
        "n_corpus_parts = len(corpora)\r\n",
        "chunk_size = int((len(corpora)+n_corpus_parts-1)/n_corpus_parts)\r\n",
        "n_included_tokens_total = 0\r\n",
        "corpus_token_counts = dict()\r\n",
        "for i, corpus in enumerate(corpora):\r\n",
        "    n_included_tokens, _ = korp.concordance(query_for_included_tokens, [corpus],\r\n",
        "                            additional_parameters={\"end\":0})\r\n",
        "    corpus_token_counts[corpus] = n_included_tokens\r\n",
        "    n_included_tokens_total += n_included_tokens\r\n",
        "    print(\"\\r\"+corpus, \"-\", i+1,\"/\",n_corpus_parts,\"-\",n_included_tokens,end=\"\")\r\n",
        "print()\r\n",
        "\r\n",
        "## Lasketaan välimerkit, erikoismerkit ja tuntemattoman sanaluokan saneet \r\n",
        "#query_for_discarded_tokens = '[(pos!=\"[A-Za-z].*\")|(pos=\"Punct|Symb|Foreign\")]'\r\n",
        "#n_removed_tokens, _ = korp.concordance(query_for_discarded_tokens, corpora, \r\n",
        "#                        additional_parameters={\"end\":0})\r\n",
        "\r\n",
        "# Lasketaan konkordanssihaun duplikaatteina poistettujen virkkeiden saneet ja lemmojen esiintymät\r\n",
        "n_duplicate_tokens = 0\r\n",
        "duplicate_lemma_counts = Counter()\r\n",
        "for left_lemmas, right_lemmas, match, _, _ in duplicates:\r\n",
        "    n_duplicate_tokens += len(left_lemmas)+len(match.split(\" \"))+len(right_lemmas)\r\n",
        "    for lemma in left_lemmas + right_lemmas:\r\n",
        "        duplicate_lemma_counts[lemma] += 1\r\n",
        "\r\n",
        "#n_tokens = n_all_tokens - n_removed_tokens - n_duplicate_tokens\r\n",
        "n_tokens = n_included_tokens_total - n_duplicate_tokens\r\n",
        "print(\"Saneita yhteensä:\",n_all_tokens)\r\n",
        "print(\"Saneita, joilla on annotoitu sanaluokka, ja jotka eivät ole välimerkkejä,\",\r\n",
        "      \"erikoismerkkejä eivätkä tuntemattoman sanaluokan saneita:\", n_included_tokens_total)\r\n",
        "#print(\"Välimerkkejä, erikoismerkkejä tai tuntemattoman sanaluokan saneita:\",n_removed_tokens)\r\n",
        "print(\"Konkordanssihaun duplikaattivirkkeiden saneita:\",n_duplicate_tokens)\r\n",
        "print(\"Saneita näiden poistamisen jälkeen:\",n_tokens)"
      ],
      "execution_count": null,
      "outputs": [
        {
          "output_type": "stream",
          "text": [
            "Lasketaan saneita...\n",
            "eduskunta - 507 / 507 - 20591301\n",
            "Saneita yhteensä: 6221461358\n",
            "Saneita, joilla on annotoitu sanaluokka, ja jotka eivät ole välimerkkejä, erikoismerkkejä eivätkä tuntemattoman sanaluokan saneita: 5069821647\n",
            "Konkordanssihaun duplikaattivirkkeiden saneita: 6916\n",
            "Saneita näiden poistamisen jälkeen: 5069814731\n"
          ],
          "name": "stdout"
        }
      ]
    },
    {
      "cell_type": "code",
      "metadata": {
        "id": "0XQQ5fSFo9ps",
        "colab": {
          "base_uri": "https://localhost:8080/"
        },
        "outputId": "be16b341-d15f-48a9-c48a-f123a1e9cf2a"
      },
      "source": [
        "import re\r\n",
        "print(\"Lasketaan jokaiselle vähintään\", min_collocate_appearance_count,\r\n",
        "      \"kertaa kollokaattina esiintyvälle sanalle, kuinka monta kertaa se esiintyy koko aineistossa...\")\r\n",
        "collocate_lemmas = [lemma for lemma, count in total_collocate_counts.items() \\\r\n",
        "                    if count >= min_collocate_appearance_count]\r\n",
        "lemma_string = '|'.join([re.escape(lemma) for lemma in collocate_lemmas])\r\n",
        "query_for_lemma_counts = '[lemma=\"('+lemma_string+')\"]'\r\n",
        "start_time = datetime.now()\r\n",
        "lemma_total_counts = Counter()\r\n",
        "processed_tokens = 0\r\n",
        "for corpus_index, corpus in enumerate(corpora):\r\n",
        "    lemma_count_query_result = korp.statistics(query_for_lemma_counts, [corpus], groupby=\"lemma\")\r\n",
        "    processed_tokens += corpus_token_counts[corpus]\r\n",
        "    for lemma, count in lemma_count_query_result[corpus.upper()]['absolute'].items():\r\n",
        "        lemma_total_counts[lemma] += count\r\n",
        "    completed_fraction = processed_tokens/n_included_tokens_total\r\n",
        "    print(\"\\r\"+corpus, corpus_index+1, \"/\", len(corpora),\"-\",\r\n",
        "          \"{:.2f} %\".format(100*completed_fraction), end=\"\")\r\n",
        "print()"
      ],
      "execution_count": null,
      "outputs": [
        {
          "output_type": "stream",
          "text": [
            "Lasketaan jokaiselle vähintään 20 kertaa kollokaattina esiintyvälle sanalle, kuinka monta kertaa se esiintyy koko aineistossa...\n",
            "eduskunta 507 / 507 - 100.00 %\n"
          ],
          "name": "stdout"
        }
      ]
    },
    {
      "cell_type": "code",
      "metadata": {
        "id": "4lHIkGR227k2"
      },
      "source": [
        "# Poistetaan lemmojen laskuista konkordanssihaun duplikaattilauseiden lemmat\r\n",
        "for lemma in collocate_lemmas:\r\n",
        "    lemma_total_counts[lemma] -= duplicate_lemma_counts[lemma]"
      ],
      "execution_count": null,
      "outputs": []
    },
    {
      "cell_type": "code",
      "metadata": {
        "id": "1V_DnpehvVdz"
      },
      "source": [
        "import math\r\n",
        "for context in [\"left\", \"right\", \"total\"]:\r\n",
        "    collocate_counts = Counter()\r\n",
        "    with open(context+'_collocate_counts_'+query+'.txt',\"r\", encoding=\"utf-8\") as file:\r\n",
        "        for line in file.read().split(\"\\n\")[:-1]:\r\n",
        "            lemma, count = line.split(\"\\t\")\r\n",
        "            collocate_counts[lemma] += int(count)\r\n",
        "        \r\n",
        "    n_collocate_words = sum(collocate_counts.values())\r\n",
        "    \r\n",
        "    t_test_scores = dict()\r\n",
        "    MI_scores = dict()\r\n",
        "    for lemma in collocate_lemmas:\r\n",
        "        if collocate_counts[lemma] == 0:\r\n",
        "            t_test_scores[lemma] = float('-inf')\r\n",
        "            MI_scores[lemma] = float('-inf')\r\n",
        "        else:\r\n",
        "            # Lasketaan t-testin arvo ja MI-arvo\r\n",
        "            t_test_mean = collocate_counts[lemma]/n_tokens\r\n",
        "            t_test_variance = t_test_mean*(1-t_test_mean)\r\n",
        "            t_test_expected_mean = (lemma_total_counts[lemma] / n_tokens) * (n_collocate_words / n_tokens)\r\n",
        "            t_test_scores[lemma] = (t_test_mean - t_test_expected_mean)/math.sqrt(t_test_variance/n_tokens)\r\n",
        "            MI_scores[lemma] = math.log((n_tokens*collocate_counts[lemma]/\\\r\n",
        "                                        (n_collocate_words*lemma_total_counts[lemma])),2)\r\n",
        "\r\n",
        "    # Tallennetaan tulokset tiedostoihin\r\n",
        "    with open(context+'_t-test_'+query+'.txt',\"w+\", encoding=\"utf-8\") as file:\r\n",
        "        for lemma in sorted(collocate_lemmas,\r\n",
        "                key=lambda x: (t_test_scores[x], collocate_counts[x], x), reverse=True):\r\n",
        "            file.write(\"{}\\t{}\\t{}\\t{}\\t{}\\n\".format(lemma, collocate_counts[lemma], \r\n",
        "                                lemma_total_counts[lemma], t_test_scores[lemma], MI_scores[lemma]))\r\n",
        "    with open(context+'_MI_'+query+'.txt',\"w+\", encoding=\"utf-8\") as file:\r\n",
        "        for lemma in sorted(collocate_lemmas, \r\n",
        "                key=lambda x: (MI_scores[x], collocate_counts[x], x), reverse=True):\r\n",
        "            file.write(\"{}\\t{}\\t{}\\t{}\\t{}\\n\".format(lemma, collocate_counts[lemma], \r\n",
        "                                lemma_total_counts[lemma], t_test_scores[lemma], MI_scores[lemma]))\r\n"
      ],
      "execution_count": null,
      "outputs": []
    }
  ]
}